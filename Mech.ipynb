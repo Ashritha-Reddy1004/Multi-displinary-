{
  "nbformat": 4,
  "nbformat_minor": 0,
  "metadata": {
    "colab": {
      "name": "Mech.ipynb",
      "provenance": []
    },
    "kernelspec": {
      "name": "python3",
      "display_name": "Python 3"
    },
    "language_info": {
      "name": "python"
    }
  },
  "cells": [
    {
      "cell_type": "code",
      "execution_count": 1,
      "metadata": {
        "id": "Uh7TJWUBhE14"
      },
      "outputs": [],
      "source": [
        "import pandas as pd\n",
        "import numpy as np\n",
        "from matplotlib import pyplot as plt"
      ]
    },
    {
      "cell_type": "code",
      "source": [
        "df=pd.read_csv(\"/content/Larfile.csv\")\n",
        "print(df)"
      ],
      "metadata": {
        "colab": {
          "base_uri": "https://localhost:8080/"
        },
        "id": "ndxPgdfJw58y",
        "outputId": "bd4beb65-f432-4e55-99e6-aef243d07252"
      },
      "execution_count": 2,
      "outputs": [
        {
          "output_type": "stream",
          "name": "stdout",
          "text": [
            "    State   Stream ID  Site_ID  \\\n",
            "0      AK  Knik River        2   \n",
            "1      AK  Knik River        3   \n",
            "2      AK  Knik River        3   \n",
            "3      AK  Knik River        3   \n",
            "4      AK  Knik River        3   \n",
            "..    ...         ...      ...   \n",
            "503    VA   Tye River       53   \n",
            "504    VA   Tye River       53   \n",
            "505    VA   Tye River       53   \n",
            "506    VA   Tye River       53   \n",
            "507    VA   Tye River       53   \n",
            "\n",
            "                                           Site_Name Pier_ID       Date  \\\n",
            "0    Knik River at Old Glenn Highway near Palmer, AK       5  7/11/1965   \n",
            "1              Knik River at S.R. 1 near Eklutna, AK       7  6/28/1966   \n",
            "2              Knik River at S.R. 1 near Eklutna, AK       5  6/24/1966   \n",
            "3              Knik River at S.R. 1 near Eklutna, AK       1  6/28/1966   \n",
            "4              Knik River at S.R. 1 near Eklutna, AK       2  6/24/1966   \n",
            "..                                               ...     ...        ...   \n",
            "503         Tye River at S.R. 56 near Lovingston, VA       3  4/22/1992   \n",
            "504         Tye River at S.R. 56 near Lovingston, VA       2   5/3/1989   \n",
            "505         Tye River at S.R. 56 near Lovingston, VA       2  4/22/1992   \n",
            "506         Tye River at S.R. 56 near Lovingston, VA       2   5/7/1989   \n",
            "507         Tye River at S.R. 56 near Lovingston, VA       3   5/3/1989   \n",
            "\n",
            "      Time     US/DS Pier_Type Pier_Shape  ...  Sediment_Transport  \\\n",
            "0    15:30  Upstream    Single      Sharp  ...            Live-bed   \n",
            "1     0:00  Upstream    Single      Round  ...            Live-bed   \n",
            "2     0:00  Upstream    Single      Round  ...            Live-bed   \n",
            "3     0:00  Upstream    Single      Round  ...            Live-bed   \n",
            "4     0:00  Upstream    Single      Round  ...            Live-bed   \n",
            "..     ...       ...       ...        ...  ...                 ...   \n",
            "503  11:00  Upstream    Single      Round  ...             Unknown   \n",
            "504  12:00  Upstream    Single      Round  ...             Unknown   \n",
            "505  11:00  Upstream    Single      Round  ...             Unknown   \n",
            "506   9:00  Upstream    Single      Round  ...             Unknown   \n",
            "507  12:00  Upstream    Single      Round  ...             Unknown   \n",
            "\n",
            "     Bed_Material_Type    D16   D50    D84   D95   Sigma_Bed_Material  \\\n",
            "0         Non-cohesive   0.92   5.0   27.0   83.0                 5.5   \n",
            "1         Non-cohesive   0.39   1.8    8.0   22.0                 4.6   \n",
            "2         Non-cohesive   0.39   1.8    8.0   22.0                 4.6   \n",
            "3         Non-cohesive   0.39   1.8    8.0   22.0                 4.6   \n",
            "4         Non-cohesive   0.39   1.8    8.0   22.0                 4.6   \n",
            "..                 ...    ...   ...    ...    ...                 ...   \n",
            "503       Non-cohesive  33.00  72.0  170.0  250.0                 2.3   \n",
            "504       Non-cohesive  33.00  72.0  170.0  250.0                 2.3   \n",
            "505       Non-cohesive  33.00  72.0  170.0  250.0                 2.3   \n",
            "506       Non-cohesive  33.00  72.0  170.0  250.0                 2.3   \n",
            "507       Non-cohesive  33.00  72.0  170.0  250.0                 2.3   \n",
            "\n",
            "     Debris_Effects  Scour_Depth  Accuracy   \n",
            "0           Unknown          3.5        0.5  \n",
            "1           Unknown          2.5        0.5  \n",
            "2           Unknown          4.5        0.5  \n",
            "3           Unknown          1.5        0.5  \n",
            "4           Unknown          2.0        0.5  \n",
            "..              ...          ...        ...  \n",
            "503         Unknown          2.5        1.0  \n",
            "504         Unknown          0.8        1.0  \n",
            "505         Unknown          1.6        1.0  \n",
            "506         Unknown          0.6        1.0  \n",
            "507         Unknown          1.0        1.0  \n",
            "\n",
            "[508 rows x 24 columns]\n"
          ]
        }
      ]
    },
    {
      "cell_type": "code",
      "source": [
        "df.head"
      ],
      "metadata": {
        "id": "q_9i5J6UxPuq"
      },
      "execution_count": null,
      "outputs": []
    },
    {
      "cell_type": "code",
      "source": [
        "df=df.dropna()\n",
        "df"
      ],
      "metadata": {
        "id": "eSQgurQbxzi4"
      },
      "execution_count": null,
      "outputs": []
    },
    {
      "cell_type": "code",
      "source": [
        "df.columns"
      ],
      "metadata": {
        "id": "lbFsmXcC5jGw"
      },
      "execution_count": null,
      "outputs": []
    },
    {
      "cell_type": "code",
      "source": [
        "df1=df.drop([\"State\",\"Stream ID\",\"Date\",\"Time\",\"Debris_Effects\",\"Pier_ID\",\"Accuracy \"],axis=1)"
      ],
      "metadata": {
        "id": "lmz7h0Mw5KAr"
      },
      "execution_count": 57,
      "outputs": []
    },
    {
      "cell_type": "code",
      "source": [
        "df1"
      ],
      "metadata": {
        "id": "BsaLk37U6TBr"
      },
      "execution_count": null,
      "outputs": []
    },
    {
      "cell_type": "code",
      "source": [
        "for column in ['Site_Name','US/DS','Pier_Shape', 'Pier_Type','Sediment_Transport','Bed_Material_Type']:\n",
        "  dummies = pd.get_dummies(df1[column])     \n",
        "  df1[dummies.columns] = dummies"
      ],
      "metadata": {
        "id": "mNzvxCa96o8x"
      },
      "execution_count": 33,
      "outputs": []
    },
    {
      "cell_type": "code",
      "source": [
        "df1=df1.drop(['Site_Name','US/DS','Pier_Shape', 'Pier_Type','Sediment_Transport','Bed_Material_Type'],axis=1)"
      ],
      "metadata": {
        "id": "2-gIptbV_w0B"
      },
      "execution_count": 34,
      "outputs": []
    },
    {
      "cell_type": "code",
      "source": [
        "df1"
      ],
      "metadata": {
        "id": "2nqpNeXtAV6l"
      },
      "execution_count": null,
      "outputs": []
    },
    {
      "cell_type": "code",
      "source": [
        "x = np.asarray(df1.drop('Scour_Depth',axis=1))\n",
        "y =np.asarray(df1['Scour_Depth'])"
      ],
      "metadata": {
        "id": "hvyN5dOi4uby"
      },
      "execution_count": 36,
      "outputs": []
    },
    {
      "cell_type": "code",
      "source": [
        "np.shape(x)"
      ],
      "metadata": {
        "colab": {
          "base_uri": "https://localhost:8080/"
        },
        "id": "srtvhlt-GDoO",
        "outputId": "f7e291de-455b-4fcd-f807-d4219c514f9d"
      },
      "execution_count": 37,
      "outputs": [
        {
          "output_type": "execute_result",
          "data": {
            "text/plain": [
              "(508, 102)"
            ]
          },
          "metadata": {},
          "execution_count": 37
        }
      ]
    },
    {
      "cell_type": "code",
      "source": [
        "print(df1['Scour_Depth'])"
      ],
      "metadata": {
        "colab": {
          "base_uri": "https://localhost:8080/"
        },
        "id": "IqpQIdf9XwqV",
        "outputId": "285efccf-8827-4f23-feb7-a8f5bbb13e5d"
      },
      "execution_count": 38,
      "outputs": [
        {
          "output_type": "stream",
          "name": "stdout",
          "text": [
            "0      3.5\n",
            "1      2.5\n",
            "2      4.5\n",
            "3      1.5\n",
            "4      2.0\n",
            "      ... \n",
            "503    2.5\n",
            "504    0.8\n",
            "505    1.6\n",
            "506    0.6\n",
            "507    1.0\n",
            "Name: Scour_Depth, Length: 508, dtype: float64\n"
          ]
        }
      ]
    },
    {
      "cell_type": "code",
      "source": [
        "np.shape(y)"
      ],
      "metadata": {
        "colab": {
          "base_uri": "https://localhost:8080/"
        },
        "id": "VNzr7CdYG2u9",
        "outputId": "7a9e0954-1187-4793-b9ed-475aab3217fa"
      },
      "execution_count": 39,
      "outputs": [
        {
          "output_type": "execute_result",
          "data": {
            "text/plain": [
              "(508,)"
            ]
          },
          "metadata": {},
          "execution_count": 39
        }
      ]
    },
    {
      "cell_type": "code",
      "source": [
        "from sklearn.model_selection import train_test_split\n",
        "x_train, x_test, y_train, y_test = train_test_split(x, y, test_size = 0.2, random_state = 42)"
      ],
      "metadata": {
        "id": "BRQpjQIsBD0m"
      },
      "execution_count": 40,
      "outputs": []
    },
    {
      "cell_type": "code",
      "source": [
        "df1.dtypes"
      ],
      "metadata": {
        "colab": {
          "base_uri": "https://localhost:8080/"
        },
        "id": "Wf1jBrgabHZ4",
        "outputId": "e701e50b-35af-4e87-bd7f-8a2664443418"
      },
      "execution_count": 41,
      "outputs": [
        {
          "output_type": "execute_result",
          "data": {
            "text/plain": [
              "Site_ID                   int64\n",
              "Effective_Pier_Width    float64\n",
              "Skew_To_Flow            float64\n",
              "Stream_ID               float64\n",
              "Approach_Depth          float64\n",
              "                         ...   \n",
              "Live-bed                  uint8\n",
              "Cohesive                  uint8\n",
              "NON-COH                   uint8\n",
              "Non-Cohesive              uint8\n",
              "Non-cohesive              uint8\n",
              "Length: 103, dtype: object"
            ]
          },
          "metadata": {},
          "execution_count": 41
        }
      ]
    },
    {
      "cell_type": "code",
      "source": [
        "#!/usr/bin/python\n",
        "\n",
        "import os, sys\n",
        "import scipy \n",
        "import numpy as np\n",
        "\n",
        "for index, line in enumerate(open('Larfile.csv', 'r').readlines()):\n",
        "    w = line.split(' ')\n",
        "    l1 = w[1:8]\n",
        "    l2 = w[8:15]\n",
        "\n",
        "    try:\n",
        "        list1 = list(map(float, l1))\n",
        "        list2 = list(map(float, l2))\n",
        "    except ValueError:\n",
        "        print('Line {i} is corrupt!'.format(i = index))\n",
        "        break\n",
        "\n",
        "    result = scipy.stats.ttest_ind(list1, list2)\n",
        "    print(result[1])"
      ],
      "metadata": {
        "colab": {
          "base_uri": "https://localhost:8080/"
        },
        "id": "M1ZzF1MAd6Ba",
        "outputId": "56853780-eb73-4e38-f39e-03ba317a4131"
      },
      "execution_count": 42,
      "outputs": [
        {
          "output_type": "stream",
          "name": "stdout",
          "text": [
            "Line 0 is corrupt!\n"
          ]
        }
      ]
    },
    {
      "cell_type": "code",
      "source": [
        "df1=df1.dropna()"
      ],
      "metadata": {
        "id": "d9TcXqxIWF3g"
      },
      "execution_count": 53,
      "outputs": []
    },
    {
      "cell_type": "code",
      "source": [
        "y_train = np.nan_to_num(y_train)\n",
        "x_train = np.nan_to_num(x_train)\n",
        "y_test = np.nan_to_num(y_test)\n",
        "x_test = np.nan_to_num(x_test)"
      ],
      "metadata": {
        "id": "DIQ1tuY0bCmz"
      },
      "execution_count": 80,
      "outputs": []
    },
    {
      "cell_type": "code",
      "source": [
        "from sklearn.linear_model import LinearRegression\n",
        "LR = LinearRegression()\n",
        "LR.fit(x_train,y_train)"
      ],
      "metadata": {
        "colab": {
          "base_uri": "https://localhost:8080/"
        },
        "id": "Xx6BQwOGYr-W",
        "outputId": "e7c6352a-f2d3-480b-958b-b0358bea47cb"
      },
      "execution_count": 81,
      "outputs": [
        {
          "output_type": "execute_result",
          "data": {
            "text/plain": [
              "LinearRegression()"
            ]
          },
          "metadata": {},
          "execution_count": 81
        }
      ]
    },
    {
      "cell_type": "code",
      "source": [
        "y_prediction =  LR.predict(x_test)\n",
        "y_prediction"
      ],
      "metadata": {
        "colab": {
          "base_uri": "https://localhost:8080/"
        },
        "id": "Vs7BpcMUZobX",
        "outputId": "3634935d-23b7-44c0-cda9-ae19cf2d6875"
      },
      "execution_count": 82,
      "outputs": [
        {
          "output_type": "execute_result",
          "data": {
            "text/plain": [
              "array([ 1.16749794, -1.04469327,  2.45642329,  1.09119902, 14.23468745,\n",
              "        3.37620718,  1.73463823,  2.01891726,  2.58728425,  0.4037354 ,\n",
              "        0.76414727, -0.72350125,  3.85874844,  1.3485029 ,  1.87730254,\n",
              "        3.70512262,  2.9411483 ,  5.87716979,  1.92612511,  1.43699082,\n",
              "        2.32011391,  0.22519896,  2.56586022,  0.69575587,  1.83839011,\n",
              "        1.93399966,  2.45672563,  3.61882993, 22.32942588,  3.65467865,\n",
              "        0.89351514,  2.92434142,  0.44368481,  1.89380551,  0.08604888,\n",
              "       14.8774203 ,  0.73547045,  1.56619368, 13.04737368,  2.0969602 ,\n",
              "        2.37181086,  2.6472423 ,  3.44477562,  2.23058614,  7.63651586,\n",
              "        0.17831317,  0.98814628,  2.64186028,  2.68186287,  1.20529824,\n",
              "        2.26682179,  2.61226506, 11.6864627 ,  1.32468459,  9.50709348,\n",
              "        0.84703548,  1.75555547,  1.15476436,  3.41599199,  4.5235245 ,\n",
              "       18.6839663 ,  2.85957535,  4.02236557,  0.79979844,  4.78557585,\n",
              "        2.65103654,  1.08673976,  1.53769202,  1.86230815,  3.39291341,\n",
              "        4.31115818,  0.91111285,  2.68505432, 12.2922105 ,  0.59007222,\n",
              "        0.91098558, 12.50546128,  3.80647268,  2.1130196 ,  2.66968788,\n",
              "        7.82900076,  2.45365929,  2.43290326, -2.85097732,  4.83723689,\n",
              "        1.08119103,  1.68369006,  1.98795903,  0.43920697,  1.23230733,\n",
              "        2.5644516 ,  1.96686281,  0.90368082,  2.47962572,  2.27670129,\n",
              "        7.44069327,  0.55160793,  0.42853979,  2.979873  ,  1.31364202,\n",
              "        4.41641876,  2.11630998])"
            ]
          },
          "metadata": {},
          "execution_count": 82
        }
      ]
    },
    {
      "cell_type": "code",
      "source": [
        "from sklearn.metrics import r2_score\n",
        "from sklearn.metrics import mean_squared_error\n",
        "score=r2_score(y_test,y_prediction)\n",
        "print(\"r2 socre is \",score)\n",
        "print(\"mean_sqrd_error is==\",mean_squared_error(y_test,y_prediction))\n",
        "print(\"root_mean_squared error of is==\",np.sqrt(mean_squared_error(y_test,y_prediction)))"
      ],
      "metadata": {
        "id": "X-WHzO_gCCLV",
        "colab": {
          "base_uri": "https://localhost:8080/"
        },
        "outputId": "2af34af4-358a-404f-d862-7e2a0987b099"
      },
      "execution_count": 83,
      "outputs": [
        {
          "output_type": "stream",
          "name": "stdout",
          "text": [
            "r2 socre is  0.82672136748056\n",
            "mean_sqrd_error is== 3.7177153784061967\n",
            "root_mean_squared error of is== 1.9281378006787266\n"
          ]
        }
      ]
    }
  ]
}